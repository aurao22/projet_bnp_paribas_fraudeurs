{
 "cells": [
  {
   "attachments": {},
   "cell_type": "markdown",
   "metadata": {},
   "source": [
    "<div style=\"display: flex; background-color: RGB(255,114,0);\" >\n",
    "<div>\n",
    "<img src=\"img/fraudeur_-_BNPP_PF_-_finale.jpg\" width=\"300\"/>\n",
    "</div>\n",
    "\n",
    "# PROJET - Comment démasquer les fraudeurs ? <mark>Benchmark 1 <img src=\"img/benchmark_1_formule.png\"/></mark>\n",
    "</div>\n",
    "\n",
    "par BNP Paribas PF\n",
    "\n",
    "Lien vers le challenge : https://challengedata.ens.fr/participants/challenges/104/"
   ]
  },
  {
   "attachments": {},
   "cell_type": "markdown",
   "metadata": {},
   "source": [
    "<div style=\"display: flex; background-color: Blue; padding: 15px;\" >\n",
    "\n",
    "## 1.Description du benchmark\n",
    "</div>\n",
    "\n",
    "<div style=\"display: flex; background-color: Green; padding: 7px;\" >\n",
    "\n",
    "### 1.1. Métrique d'évaluation\n",
    "</div>\n",
    "\n",
    "L'objectif est d'identifier une opération frauduleuse dans la population en prédisant un risque/probabilité de fraude. Par conséquent, la métrique à utiliser est l'aire sous la courbe Précision-Rappel, appelé également PR-AUC.\n",
    "\n",
    "La courbe Précision-Rappel s'obtient en traçant la précision (TPTP+FNTP+FNTP​ ) sur l'axe des ordonnées et le rappel (TPTP+FPTP+FPTP​ ) sur l'axe des abcisses pour tout seuil de probabilité compris entre 0 et 1.\n",
    "\n",
    "Cette métrique est appropriée pour évaluer correctement la performance d'un modèle sur la classe minoritaire dans le cadre d'une classification fortement déséquilibrée.\n",
    "\n",
    "<mark>Le meilleur modèle correspondra à celui avec la valeur de PR-AUC la plus élevée.</mark>\n",
    "\n",
    "Pour ce challenge, la PR-AUC sera estimée par la moyenne pondérées des précisions à chaque seuil avec le poids associé étant la variation du rappel entre le seuil précédent et le nouveau seuil :\n",
    "\n",
    "<img src=\"img/benchmark_formule.png\"/>\n",
    "\n",
    "où PnPn​ et RnRn​ sont les précisions et recall du nème seuil.\n",
    "\n",
    "N.B. Cette implémentation correspond à la métrique average_precision_score de sklearn.\n",
    "\n",
    "\n",
    "Par conséquent, votre fichier de submission devra avoir le format suivant :"
   ]
  },
  {
   "attachments": {},
   "cell_type": "markdown",
   "metadata": {},
   "source": [
    "|Variable|Description|\n",
    "|--------|-----------|\n",
    "|ID (Num)|Identifiant unique|\n",
    "|fraud_flag (Num)|Probabilité estimée (décimale positive entre 0 et 1) pour la classe minoritaire (1). Plus la valeur est élevée, plus la probabilité est forte d'être une opération frauduleuse.|"
   ]
  },
  {
   "attachments": {},
   "cell_type": "markdown",
   "metadata": {},
   "source": [
    "Vous pouvez utiliser les fichiers .csv Y_test_random et Y_test_benchmark pour vérifier le format attendu et la taille de votre fichier de submission pour ce challenge.\n",
    "\n",
    "Benchmark 1 <img src=\"img/benchmark_1_formule.png\"/>\n",
    "\n",
    "> Le premier benchmark est naïf et considère un modèle qui prédit aléatoirement une probabilité entre 0 et 1."
   ]
  },
  {
   "cell_type": "code",
   "execution_count": 6,
   "metadata": {},
   "outputs": [],
   "source": [
    "from os import getcwd\n",
    "from os.path import join, exists\n",
    "import pandas as pd\n",
    "import random\n",
    "\n",
    "import warnings\n",
    "warnings.filterwarnings(\"ignore\")"
   ]
  },
  {
   "cell_type": "code",
   "execution_count": 7,
   "metadata": {},
   "outputs": [],
   "source": [
    "verbose = 1\n",
    "\n",
    "# Récupère le répertoire du programme\n",
    "execution_path = getcwd().split(\"projet_bnp_paribas_fraudeurs\")[0]\n",
    "execution_path = join(execution_path, 'projet_bnp_paribas_fraudeurs')\n",
    "\n",
    "data_set_path = join(execution_path, 'dataset')\n",
    "data_set_x_test_file_name = join(data_set_path, \"X_test_8skS2ey.csv\")\n",
    "\n",
    "# print(f\"Current execution path : {execution_path}\")\n",
    "# print(f\"Dataset path : {data_set_path}\")"
   ]
  },
  {
   "attachments": {},
   "cell_type": "markdown",
   "metadata": {},
   "source": [
    "<div style=\"display: flex; background-color: Blue; padding: 15px;\" >\n",
    "\n",
    "## 1.CHARGEMENT des données\n",
    "</div>\n"
   ]
  },
  {
   "cell_type": "code",
   "execution_count": 8,
   "metadata": {},
   "outputs": [
    {
     "name": "stdout",
     "output_type": "stream",
     "text": [
      "(23198, 146) x_test données chargées\n"
     ]
    }
   ],
   "source": [
    "x_test_origin = pd.read_csv(data_set_x_test_file_name, sep=',',low_memory=False)\n",
    "\n",
    "print(f\"{x_test_origin.shape} x_test données chargées\")"
   ]
  },
  {
   "cell_type": "code",
   "execution_count": 9,
   "metadata": {},
   "outputs": [
    {
     "data": {
      "text/plain": [
       "Index(['ID', 'item1', 'item2', 'item3', 'item4', 'item5', 'item6', 'item7',\n",
       "       'item8', 'item9',\n",
       "       ...\n",
       "       'Nbr_of_prod_purchas16', 'Nbr_of_prod_purchas17',\n",
       "       'Nbr_of_prod_purchas18', 'Nbr_of_prod_purchas19',\n",
       "       'Nbr_of_prod_purchas20', 'Nbr_of_prod_purchas21',\n",
       "       'Nbr_of_prod_purchas22', 'Nbr_of_prod_purchas23',\n",
       "       'Nbr_of_prod_purchas24', 'Nb_of_items'],\n",
       "      dtype='object', length=146)"
      ]
     },
     "execution_count": 9,
     "metadata": {},
     "output_type": "execute_result"
    }
   ],
   "source": [
    "x_test_origin.columns"
   ]
  },
  {
   "cell_type": "code",
   "execution_count": 10,
   "metadata": {},
   "outputs": [
    {
     "data": {
      "text/html": [
       "<div>\n",
       "<style scoped>\n",
       "    .dataframe tbody tr th:only-of-type {\n",
       "        vertical-align: middle;\n",
       "    }\n",
       "\n",
       "    .dataframe tbody tr th {\n",
       "        vertical-align: top;\n",
       "    }\n",
       "\n",
       "    .dataframe thead th {\n",
       "        text-align: right;\n",
       "    }\n",
       "</style>\n",
       "<table border=\"1\" class=\"dataframe\">\n",
       "  <thead>\n",
       "    <tr style=\"text-align: right;\">\n",
       "      <th></th>\n",
       "      <th>ID</th>\n",
       "      <th>fraud_flag</th>\n",
       "    </tr>\n",
       "    <tr>\n",
       "      <th>index</th>\n",
       "      <th></th>\n",
       "      <th></th>\n",
       "    </tr>\n",
       "  </thead>\n",
       "  <tbody>\n",
       "    <tr>\n",
       "      <th>0</th>\n",
       "      <td>64707</td>\n",
       "      <td>0.238692</td>\n",
       "    </tr>\n",
       "    <tr>\n",
       "      <th>1</th>\n",
       "      <td>63919</td>\n",
       "      <td>0.249536</td>\n",
       "    </tr>\n",
       "    <tr>\n",
       "      <th>2</th>\n",
       "      <td>15664</td>\n",
       "      <td>0.658574</td>\n",
       "    </tr>\n",
       "    <tr>\n",
       "      <th>3</th>\n",
       "      <td>6626</td>\n",
       "      <td>0.109449</td>\n",
       "    </tr>\n",
       "    <tr>\n",
       "      <th>4</th>\n",
       "      <td>26766</td>\n",
       "      <td>0.824451</td>\n",
       "    </tr>\n",
       "    <tr>\n",
       "      <th>...</th>\n",
       "      <td>...</td>\n",
       "      <td>...</td>\n",
       "    </tr>\n",
       "    <tr>\n",
       "      <th>23193</th>\n",
       "      <td>63474</td>\n",
       "      <td>0.420224</td>\n",
       "    </tr>\n",
       "    <tr>\n",
       "      <th>23194</th>\n",
       "      <td>80438</td>\n",
       "      <td>0.245328</td>\n",
       "    </tr>\n",
       "    <tr>\n",
       "      <th>23195</th>\n",
       "      <td>29485</td>\n",
       "      <td>0.165005</td>\n",
       "    </tr>\n",
       "    <tr>\n",
       "      <th>23196</th>\n",
       "      <td>59838</td>\n",
       "      <td>0.922775</td>\n",
       "    </tr>\n",
       "    <tr>\n",
       "      <th>23197</th>\n",
       "      <td>110584</td>\n",
       "      <td>0.322282</td>\n",
       "    </tr>\n",
       "  </tbody>\n",
       "</table>\n",
       "<p>23198 rows × 2 columns</p>\n",
       "</div>"
      ],
      "text/plain": [
       "           ID  fraud_flag\n",
       "index                    \n",
       "0       64707    0.238692\n",
       "1       63919    0.249536\n",
       "2       15664    0.658574\n",
       "3        6626    0.109449\n",
       "4       26766    0.824451\n",
       "...       ...         ...\n",
       "23193   63474    0.420224\n",
       "23194   80438    0.245328\n",
       "23195   29485    0.165005\n",
       "23196   59838    0.922775\n",
       "23197  110584    0.322282\n",
       "\n",
       "[23198 rows x 2 columns]"
      ]
     },
     "execution_count": 10,
     "metadata": {},
     "output_type": "execute_result"
    }
   ],
   "source": [
    "y_test = x_test_origin[['ID']]\n",
    "y_test['fraud_flag'] = y_test.apply(lambda x:random.uniform(0, 1), axis=1)\n",
    "y_test = y_test.reset_index()\n",
    "y_test = y_test.set_index('index')\n",
    "y_test"
   ]
  },
  {
   "cell_type": "code",
   "execution_count": 14,
   "metadata": {},
   "outputs": [],
   "source": [
    "y_test.to_csv('dataset/y_test_benchmark1_aleatoire.csv')"
   ]
  },
  {
   "attachments": {},
   "cell_type": "markdown",
   "metadata": {},
   "source": [
    "> Score pour cette soumission est : 0,017990460160154494\n",
    "\n",
    "> Ce qui est conforme à l'attendu aléatoire"
   ]
  }
 ],
 "metadata": {
  "kernelspec": {
   "display_name": "tensor_flow",
   "language": "python",
   "name": "python3"
  },
  "language_info": {
   "codemirror_mode": {
    "name": "ipython",
    "version": 3
   },
   "file_extension": ".py",
   "mimetype": "text/x-python",
   "name": "python",
   "nbconvert_exporter": "python",
   "pygments_lexer": "ipython3",
   "version": "3.9.10"
  },
  "orig_nbformat": 4,
  "vscode": {
   "interpreter": {
    "hash": "aa1a338178f9f930bee8bd77ef02489fdd5066fc93282fb64038484aff075692"
   }
  }
 },
 "nbformat": 4,
 "nbformat_minor": 2
}
